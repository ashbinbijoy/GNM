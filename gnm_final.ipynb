{
  "nbformat": 4,
  "nbformat_minor": 0,
  "metadata": {
    "colab": {
      "provenance": [],
      "include_colab_link": true
    },
    "kernelspec": {
      "name": "python3",
      "display_name": "Python 3"
    },
    "language_info": {
      "name": "python"
    }
  },
  "cells": [
    {
      "cell_type": "markdown",
      "metadata": {
        "id": "view-in-github",
        "colab_type": "text"
      },
      "source": [
        "<a href=\"https://colab.research.google.com/github/ashbinbijoy/GNM/blob/main/gnm_final.ipynb\" target=\"_parent\"><img src=\"https://colab.research.google.com/assets/colab-badge.svg\" alt=\"Open In Colab\"/></a>"
      ]
    },
    {
      "cell_type": "code",
      "execution_count": null,
      "metadata": {
        "colab": {
          "base_uri": "https://localhost:8080/"
        },
        "id": "8A5HudPOuOmr",
        "outputId": "802cff37-88c9-4c53-ebc3-4182cbbe1c6f"
      },
      "outputs": [
        {
          "output_type": "stream",
          "name": "stdout",
          "text": [
            "Gaussian Network Model (GMM) Performance Metrics:\n",
            "Train Accuracy: 0.20\n",
            "Test Accuracy: 0.21\n",
            "Overall Accuracy: 0.21\n",
            "Precision: 0.20\n",
            "Recall: 0.21\n",
            "F1-Score: 0.20\n"
          ]
        }
      ],
      "source": [
        "import numpy as np\n",
        "from sklearn.mixture import GaussianMixture\n",
        "from sklearn.preprocessing import LabelEncoder, StandardScaler\n",
        "from sklearn.metrics import precision_score, recall_score, f1_score, accuracy_score\n",
        "\n",
        "# Load data\n",
        "X_train = np.loadtxt('/content/driver_activity_train.csv', delimiter=',', skiprows=1, usecols=range(10))\n",
        "y_train = np.loadtxt('/content/driver_activity_train.csv', delimiter=',', skiprows=1, usecols=10, dtype=str)\n",
        "X_test = np.loadtxt('/content/driver_activity_test.csv', delimiter=',', skiprows=1, usecols=range(10))\n",
        "y_test = np.loadtxt('/content/driver_activity_test.csv', delimiter=',', skiprows=1, usecols=10, dtype=str)\n",
        "\n",
        "# Encode labels\n",
        "encoder = LabelEncoder()\n",
        "y_train_encoded = encoder.fit_transform(y_train)\n",
        "y_test_encoded = encoder.transform(y_test)\n",
        "\n",
        "# Standardize data\n",
        "scaler = StandardScaler()\n",
        "X_train_scaled = scaler.fit_transform(X_train)\n",
        "X_test_scaled = scaler.transform(X_test)\n",
        "\n",
        "# Train Gaussian Network Model (GMM)\n",
        "gmm = GaussianMixture(n_components=len(np.unique(y_train_encoded)), random_state=42)\n",
        "gmm.fit(X_train_scaled)\n",
        "\n",
        "y_train_pred = gmm.predict(X_train_scaled)\n",
        "y_test_pred = gmm.predict(X_test_scaled)\n",
        "\n",
        "# Compute Metrics\n",
        "train_accuracy = accuracy_score(y_train_encoded, y_train_pred)\n",
        "test_accuracy = accuracy_score(y_test_encoded, y_test_pred)\n",
        "overall_accuracy = accuracy_score(y_test_encoded, y_test_pred)\n",
        "precision = precision_score(y_test_encoded, y_test_pred, average='weighted', zero_division=1)\n",
        "recall = recall_score(y_test_encoded, y_test_pred, average='weighted', zero_division=1)\n",
        "f1 = f1_score(y_test_encoded, y_test_pred, average='weighted', zero_division=1)\n",
        "\n",
        "# Print Performance Metrics\n",
        "print(\"Gaussian Network Model (GMM) Performance Metrics:\")\n",
        "print(f\"Train Accuracy: {train_accuracy:.2f}\")\n",
        "print(f\"Test Accuracy: {test_accuracy:.2f}\")\n",
        "print(f\"Overall Accuracy: {overall_accuracy:.2f}\")\n",
        "print(f\"Precision: {precision:.2f}\")\n",
        "print(f\"Recall: {recall:.2f}\")\n",
        "print(f\"F1-Score: {f1:.2f}\")\n"
      ]
    },
    {
      "cell_type": "code",
      "source": [
        "import numpy as np\n",
        "from sklearn.mixture import GaussianMixture\n",
        "from sklearn.preprocessing import LabelEncoder, StandardScaler\n",
        "from sklearn.metrics import precision_score, recall_score, f1_score, accuracy_score\n",
        "\n",
        "# Load data\n",
        "X_train = np.loadtxt('/content/driver_activity_train.csv', delimiter=',', skiprows=1, usecols=range(10))\n",
        "y_train = np.loadtxt('/content/driver_activity_train.csv', delimiter=',', skiprows=1, usecols=10, dtype=str)\n",
        "X_test = np.loadtxt('/content/driver_activity_test.csv', delimiter=',', skiprows=1, usecols=range(10))\n",
        "y_test = np.loadtxt('/content/driver_activity_test.csv', delimiter=',', skiprows=1, usecols=10, dtype=str)\n",
        "\n",
        "\n",
        "# Encode labels\n",
        "encoder = LabelEncoder()\n",
        "y_train_encoded = encoder.fit_transform(y_train)\n",
        "y_test_encoded = encoder.transform(y_test)\n",
        "\n",
        "# Standardize data\n",
        "scaler = StandardScaler()\n",
        "X_train_scaled = scaler.fit_transform(X_train)\n",
        "X_test_scaled = scaler.transform(X_test)\n",
        "\n",
        "# Define Gaussian Network Model (GNM)\n",
        "gnm_model = GaussianMixture(n_components=len(np.unique(y_train_encoded)), covariance_type='full', random_state=42)\n",
        "gnm_model.fit(X_train_scaled)\n",
        "\n",
        "# Predict states\n",
        "y_train_pred = gnm_model.predict(X_train_scaled)\n",
        "y_test_pred = gnm_model.predict(X_test_scaled)\n",
        "\n",
        "# Compute Metrics\n",
        "train_accuracy = accuracy_score(y_train_encoded, y_train_pred)\n",
        "test_accuracy = accuracy_score(y_test_encoded, y_test_pred)\n",
        "overall_accuracy = accuracy_score(y_test_encoded, y_test_pred)\n",
        "precision = precision_score(y_test_encoded, y_test_pred, average='weighted', zero_division=1)\n",
        "recall = recall_score(y_test_encoded, y_test_pred, average='weighted', zero_division=1)\n",
        "f1 = f1_score(y_test_encoded, y_test_pred, average='weighted', zero_division=1)\n",
        "\n",
        "# Print Performance Metrics\n",
        "print(\"Gaussian Network Model (GNM) Performance Metrics:\")\n",
        "print(f\"Train Accuracy: {train_accuracy:.2f}\")\n",
        "print(f\"Test Accuracy: {test_accuracy:.2f}\")\n",
        "print(f\"Overall Accuracy: {overall_accuracy:.2f}\")\n",
        "print(f\"Precision: {precision:.2f}\")\n",
        "print(f\"Recall: {recall:.2f}\")\n",
        "print(f\"F1-Score: {f1:.2f}\")\n",
        "\n",
        "# Print train and test scores\n",
        "print(f\"Train Score: {gnm_model.score(X_train_scaled):.2f}\")\n",
        "print(f\"Test Score: {gnm_model.score(X_test_scaled):.2f}\")\n"
      ],
      "metadata": {
        "colab": {
          "base_uri": "https://localhost:8080/"
        },
        "id": "C83XqfM3v2gZ",
        "outputId": "7d51d92e-48a3-41f7-da36-34934299e2bf"
      },
      "execution_count": null,
      "outputs": [
        {
          "output_type": "stream",
          "name": "stdout",
          "text": [
            "Gaussian Network Model (GNM) Performance Metrics:\n",
            "Train Accuracy: 0.20\n",
            "Test Accuracy: 0.21\n",
            "Overall Accuracy: 0.21\n",
            "Precision: 0.20\n",
            "Recall: 0.21\n",
            "F1-Score: 0.20\n",
            "Train Score: -13.85\n",
            "Test Score: -14.36\n"
          ]
        }
      ]
    }
  ]
}